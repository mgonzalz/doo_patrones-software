{
 "cells": [
  {
   "cell_type": "markdown",
   "metadata": {},
   "source": [
    "# Principios y Patrones del Desarrollo de Software."
   ]
  },
  {
   "cell_type": "markdown",
   "metadata": {},
   "source": [
    "### **Pregunta 1. SOLID.**\n",
    "\n",
    "Explique en detalle el principio SOLID \"Open/Closed\" y proporcione un ejemplo de código en Python donde este principio se ha violado y cómo puede corregirlo."
   ]
  },
  {
   "cell_type": "markdown",
   "metadata": {},
   "source": [
    "Primero de todo, SOLID se trata de un acrónimo que hace referencia a los cinco principios básicos de diseño con el fin de hacer que los diseños de software sean más comprensibles.\n",
    "\n",
    "\"Open/Closed\" se trata del segundo principio SOLID. Se refiere a que los módulos de software deben de ser **abiertos para su extensión, pero cerrados para su modificación**. Eso se refiere a que primero el comportamiento del software pueda extenderse. Es decir, si se cambian los requisitos, que se pueda ampliar el módulo para adaptarlo a estos. A su vez, con que el módulo este cerrado nos referimos a que si extendemos el comportamiento, los demás módulos no deben de verse afectamos por el cambio ni modificarse."
   ]
  },
  {
   "cell_type": "markdown",
   "metadata": {},
   "source": [
    "#### **Open/Closed - Modificar.**\n",
    "Supongamos que tenemos una clase compra que tiene una lista de productos y sus precios. Si queremos añadir tipos de **descuentos** tendríamos que modificar la clase todo el rato.\n",
    "\n",
    "Esto viola el principio de Open/Closed porque estamos cambiando una clase ya existente para añadir una nueva funcionalidad."
   ]
  },
  {
   "cell_type": "code",
   "execution_count": 79,
   "metadata": {},
   "outputs": [],
   "source": [
    "class Compra():\n",
    "    def __init__(self):\n",
    "        self.productos = []\n",
    "    def add_product(self, producto, precio):\n",
    "        self.productos.append([producto, precio])\n",
    "    def total(self):\n",
    "        total = 0\n",
    "        for producto in self.productos:\n",
    "            total += producto[1]\n",
    "        return total\n",
    "    def descuento(self, tipo_descuento):\n",
    "        if tipo_descuento == \"navidad\":\n",
    "            return self.total() * 0.80\n",
    "        if tipo_descuento == \"fin de mes\":\n",
    "            return self.total() * 0.90\n",
    "        if tipo_descuento == \"Black Friday\":\n",
    "            return self.total() * 0.50\n",
    "        # y así con otros descuentos..."
   ]
  },
  {
   "cell_type": "markdown",
   "metadata": {},
   "source": [
    "#### **Open/Closed - Modificado.**\n",
    "Para cumplir con el principio Open/Closed se debe de aplicar el **polimorfismo**. El polimorfismo hace que diferentes objetos pueden responder de manera distinta al mismo mensaje o método. Con esto permitiríamos la agregación de distintos tipos de descuento sin necesidad de modificar la clase ya creada: `Compra`.\n",
    "\n",
    "En lugar de modificar la clase, se creará una clase base Descuento, siendo esta abstracta ya que no implementa completamente los métodos que declara, sino que delega la implementación específica a las subclases; y luego extenderla con diferentes tipos de descuentos sin modificar la clase original."
   ]
  },
  {
   "cell_type": "code",
   "execution_count": 80,
   "metadata": {},
   "outputs": [],
   "source": [
    "from abc import ABC, abstractmethod"
   ]
  },
  {
   "cell_type": "code",
   "execution_count": 81,
   "metadata": {},
   "outputs": [],
   "source": [
    "class Descuento(ABC):\n",
    "    @abstractmethod\n",
    "    def apply(self, compra):\n",
    "        pass\n",
    "\n",
    "class NavidadDescuento(Descuento):\n",
    "    def apply(self, compra):\n",
    "        return compra * 0.80\n",
    "\n",
    "class FinDeMesDescuento(Descuento):\n",
    "    def apply(self, compra):\n",
    "        return compra * 0.90\n",
    "\n",
    "class BlackFridayDescuento(Descuento):\n",
    "    def apply(self, compra):\n",
    "        return compra * 0.50"
   ]
  },
  {
   "cell_type": "code",
   "execution_count": 82,
   "metadata": {},
   "outputs": [],
   "source": [
    "class Compra():\n",
    "    def __init__(self):\n",
    "        self.productos = []\n",
    "    def add_product(self, producto, precio):\n",
    "        self.productos.append([producto, precio])\n",
    "    def total(self):\n",
    "        total = 0\n",
    "        for producto in self.productos:\n",
    "            total += producto[1]\n",
    "        return total\n",
    "    def descuento(self, tipo_descuento: Descuento):\n",
    "        return tipo_descuento.apply(self.total())\n",
    "\n",
    "    def __str__(self):\n",
    "        return f\"Compra: {self.productos}, Total: {self.total()}\""
   ]
  },
  {
   "cell_type": "code",
   "execution_count": 83,
   "metadata": {},
   "outputs": [
    {
     "name": "stdout",
     "output_type": "stream",
     "text": [
      "Compra: [['Camisa', 50], ['Pantalón', 50]], Total: 100\n",
      "BlackFridayDescuento :  50.0\n",
      "NavidadDescuento :  80.0\n",
      "FinDeMesDescuento :  90.0\n"
     ]
    }
   ],
   "source": [
    "if __name__ == \"__main__\":\n",
    "    compra = Compra()\n",
    "    descuentos = [BlackFridayDescuento(), NavidadDescuento(), FinDeMesDescuento()]\n",
    "    compra.add_product(\"Camisa\", 50)\n",
    "    compra.add_product(\"Pantalón\", 50)\n",
    "    print(compra)\n",
    "    for i in descuentos:\n",
    "        print(i.__class__.__name__, ': ',compra.descuento(i))"
   ]
  },
  {
   "cell_type": "code",
   "execution_count": 84,
   "metadata": {},
   "outputs": [
    {
     "name": "stdout",
     "output_type": "stream",
     "text": [
      "Compra: [['Camisa', 50], ['Pantalón', 50], ['Zapas', 100]], Total: 200\n",
      "BlackFridayDescuento :  100.0\n",
      "NavidadDescuento :  160.0\n",
      "FinDeMesDescuento :  180.0\n"
     ]
    }
   ],
   "source": [
    "if __name__ == \"__main__\":\n",
    "    compra.add_product(\"Zapas\", 100)\n",
    "    print(compra)\n",
    "    for i in descuentos:\n",
    "        print(i.__class__.__name__, ': ',compra.descuento(i))"
   ]
  },
  {
   "cell_type": "markdown",
   "metadata": {},
   "source": [
    "## **Pregunta 2. FACTORY.**\n",
    "Describa el patrón de diseño \"Factory\". ¿En qué situaciones sería útil este patrón? Proporcione un ejemplo de cómo implementaría este patrón en Python para un problema relacionado con la ingeniería matemática, como la creación de diferentes tipos de funciones matemáticas."
   ]
  },
  {
   "cell_type": "markdown",
   "metadata": {},
   "source": [
    "**Factory** se trata de un patrón creacional. Los patrones creacionales ofrecen formas de generar instancias de clases, mejorando la adaptabilidad y la reutilización del código.\n",
    "\n",
    "**Factory** se trata de un patrón que provee una clase abstracta, `Creator`, que permite encapsular la lógica de creación de los objetos en subclases y estas deciden que clase instanciar. Estos objetos se crean a patir de un método (NO CONSTRUCTORES). Sigue la siguiente estructura:\n",
    "- Product: Definición de las interfaces para la familia de productos genéricos.\n",
    "- ConcreteProduct: Implementación de los diferentes productos.\n",
    "- Creator: Declara el método encargado de instanciar nuevos objetos. Suele ser una clase abstracta. Clase `Factory`.\n",
    "- ConcreteCreator: Crea la instancia del producto concreto.\n",
    "\n",
    "**Utilidades del Patrón Factory.**\n",
    "\n",
    "El patrón Factory resulta especialmente útil cuando **no se conoce de antemano el tipo exacto de objeto a crear** y es necesario generarlo en tiempo de ejecución. Permite incorporar nuevas subclases de `Product` sin modificar el código cliente, lo que incrementa la **adaptabilidad** del sistema. Además, es ideal en escenarios donde es importante **centralizar la lógica de creación de objetos en un único punto**. Finalmente, el patrón es adecuado cuando el tipo de objeto a crear puede variar en función de determinados parámetros o condiciones, manteniendo el código limpio y flexible.\n"
   ]
  },
  {
   "cell_type": "code",
   "execution_count": 85,
   "metadata": {},
   "outputs": [],
   "source": [
    "# CLASE Product: Función genérica que declara las operaciones que todas las funciones matemáticas tienen en común.\n",
    "class MathFuncion(ABC):\n",
    "    @abstractmethod\n",
    "    def calcular(self, x):\n",
    "        pass"
   ]
  },
  {
   "cell_type": "code",
   "execution_count": 86,
   "metadata": {},
   "outputs": [],
   "source": [
    "# CLASE ConcreteProduct: Diferentes productos.\n",
    "class FuncionLineal(MathFuncion):\n",
    "    def __init__(self, a, b):\n",
    "        self.a = a\n",
    "        self.b = b\n",
    "    def calcular(self, x):\n",
    "        return self.a * x + self.b\n",
    "    def operacion(self):\n",
    "        return f'f(x) = {self.a}x + {self.b}'\n",
    "\n",
    "class FuncionCuadratica(MathFuncion):\n",
    "    def __init__(self, a, b, c):\n",
    "        self.a = a\n",
    "        self.b = b\n",
    "        self.c = c\n",
    "    def calcular(self, x):\n",
    "        return self.a * x**2 + self.b * x + self.c\n",
    "    def operacion(self):\n",
    "        return f'f(x) = {self.a}x^2 + {self.b}x + {self.c}'"
   ]
  },
  {
   "cell_type": "code",
   "execution_count": 87,
   "metadata": {},
   "outputs": [],
   "source": [
    "# CLASE Creator: Clase abstracta que declara el método de fabrica que devolverá una función.\n",
    "class FuncionCreator(ABC):\n",
    "    @abstractmethod\n",
    "    def factory_method(self, tipo_funcion, *args) -> MathFuncion:\n",
    "        pass\n",
    "    def calcular(self, x, tipo_funcion, *args): # número, tipo función, coeficientes.\n",
    "        funcion = self.factory_method(tipo_funcion, *args)\n",
    "        return f\"FuncionCreator: Calculando usando {funcion.calcular(x)} en {funcion.operacion()}\""
   ]
  },
  {
   "cell_type": "code",
   "execution_count": 88,
   "metadata": {},
   "outputs": [],
   "source": [
    "# CLASE ConcreteCreator: Implementa el método de fábrica que devuelve un objeto de la clase concreta.\n",
    "class ConcreteFuncionCreator(FuncionCreator):\n",
    "    def factory_method(self, tipo_funcion, *args) -> MathFuncion:\n",
    "        if tipo_funcion == \"lineal\":\n",
    "            a = args[0]\n",
    "            b = args[1]\n",
    "            return FuncionLineal(a, b)\n",
    "        if tipo_funcion == \"cuadratica\":\n",
    "            a = args[0]\n",
    "            b = args[1]\n",
    "            c = args[2]\n",
    "            return FuncionCuadratica(a, b, c)\n",
    "        else:\n",
    "            return 'Tipo de función desconocida'\n"
   ]
  },
  {
   "cell_type": "code",
   "execution_count": 89,
   "metadata": {},
   "outputs": [],
   "source": [
    "# Código del cliente: Instancia de un creator concreto sin conocer su clase específica.\n",
    "def client_code(creator: FuncionCreator, x, function_type, *args):\n",
    "    print(creator.calcular(x, function_type, *args))"
   ]
  },
  {
   "cell_type": "code",
   "execution_count": 90,
   "metadata": {},
   "outputs": [
    {
     "name": "stdout",
     "output_type": "stream",
     "text": [
      "App: Lanzado con funciones lineales.\n",
      "FuncionCreator: Calculando usando 13 en f(x) = 2x + 3\n",
      "\n",
      "App: Lanzado con funciones cuadráticas.\n",
      "FuncionCreator: Calculando usando 16 en f(x) = 1x^2 + -2x + 1\n"
     ]
    }
   ],
   "source": [
    "if __name__ == \"__main__\":\n",
    "    creator = ConcreteFuncionCreator()\n",
    "    \n",
    "    # Ejemplo usando el creador para diferentes tipos de funciones\n",
    "    print(\"App: Lanzado con funciones lineales.\")\n",
    "    client_code(creator, 5, \"lineal\", 2, 3)  # f(x) = 2*x + 3\n",
    "    \n",
    "    print(\"\\nApp: Lanzado con funciones cuadráticas.\")\n",
    "    client_code(creator, 5, \"cuadratica\", 1, -2, 1)  # f(x) = 1*x^2 - 2*x + 1"
   ]
  },
  {
   "cell_type": "markdown",
   "metadata": {},
   "source": [
    "## **Pregunta 3. God Object.**\n",
    "Explique el antipatrón \"God Object\". ¿Por qué es perjudicial este antipatrón y qué problemas puede causar en el desarrollo de software? Proporcione un ejemplo de un \"God Object\" en un contexto de ingeniería matemática y explique cómo podría refactorizarlo para evitar este antipatrón."
   ]
  },
  {
   "cell_type": "markdown",
   "metadata": {},
   "source": [
    "**God Object** o **The Blob** es un antipatrón que asume demasiada responsabilidad, volviéndose un objeto todopoderoso que gestiona y controla la mayoría de las funciones y datos de la aplicación. El principal problema radica en que la mayoría de las responsabilidad son situadas en esta gran clase.\n",
    "\n",
    "Este patrón es perjudicial debido a que realiza demasiadas tareas diferentes, lo que lleva a una **baja cohesión**, es decir, que sea objeto difícil de entender y mantener. Provoca una **cobertura de pruebas deficiente**, ya que al manejar múltiples responsabilidades, es complicado escribir pruebas unitarias para él. Esta estructura **dificulta el mantenimiento y actualización del software** debido a que al manejar tantas funcionalidades cualquier cambio en él puede causar efectos en cascada. La **capacidad de escalar** del sistema es **limitada**. Finalmente al manejar tantas operaciones, no puede procesar las solicitudes de manera rápida y eficiente, derivando en **problemas de rendimiento**."
   ]
  },
  {
   "cell_type": "markdown",
   "metadata": {},
   "source": [
    "### **God Object - Modificar.**\n",
    "Como ejemplo a modificar creamos una clase `Estadística` que alberga distintas operaciones necesarias para el análisis de datos."
   ]
  },
  {
   "cell_type": "code",
   "execution_count": 91,
   "metadata": {},
   "outputs": [],
   "source": [
    "class Estadistica():\n",
    "    def media(self, numeros: list):\n",
    "        return sum(numeros) / len(numeros)\n",
    "\n",
    "    def mediana(self, numeros: list):\n",
    "        numeros.sort()\n",
    "        if len(numeros) % 2 == 0:\n",
    "            return (numeros[len(numeros) // 2 - 1] + numeros[len(numeros) // 2]) / 2\n",
    "        else:\n",
    "            return numeros[len(numeros) // 2]\n",
    "\n",
    "    def moda(self, numeros):\n",
    "        frecuencia = {}\n",
    "        for num in numeros:\n",
    "            if num in frecuencia:\n",
    "                frecuencia[num] += 1\n",
    "            else:\n",
    "                frecuencia[num] = 1\n",
    "        max_frecuencia = max(frecuencia.values())\n",
    "        return [num for num, freq in frecuencia.items() if freq == max_frecuencia]\n",
    "\n",
    "    def varianza(self, numeros):\n",
    "        media = self.media(numeros)\n",
    "        return sum((x - media) ** 2 for x in numeros) / len(numeros)\n",
    "\n",
    "    def desviacion_estandar(self, numeros):\n",
    "        return self.varianza(numeros) ** 0.5\n",
    "\n",
    "    def rango(self, datos):\n",
    "        return max(datos) - min(datos)"
   ]
  },
  {
   "cell_type": "markdown",
   "metadata": {},
   "source": [
    "La clase `Estadistica`asume una gran cantidad de funcionalidades y, por lo tanto, se convierte en un componente central que gestiona diversas tareas. Aunque a primera vista puede parecer ventajoso contar con un único objeto que maneje múltiples operaciones, este enfoque frecuentemente genera complicaciones en el diseño del software:\n",
    "\n",
    "- **Demasiadas responsabilidades.** La clase `Estadistica` maneja diversas tareas. Esto se asemeja a tener un único asistente que se encarga de múltiples tareas en una oficina.\n",
    "- **Dificultad de mantenimiento.** Si quieres modificar la forma en que se calcula algún método, se necesitará entender toda la clase, lo que puede ser confuso y llevar tiempo.\n",
    "- **Rendimiento lento.** Cuando se pide realizar un cálculo específico, puede que la clase tenga que recorrer todo su conjunto de funciones, lo que puede ralentizar el rendimiento, especialmente si se usan muchas operaciones al mismo tiempo."
   ]
  },
  {
   "cell_type": "markdown",
   "metadata": {},
   "source": [
    "### **God Object - Modificado.**\n",
    "La solución al antipatrón consist en dividir el objeto grande en varias clases más pequeñas, cada una con su propia responsabilidad. Esto se conoce como el **principio de responsabilidad única**, SRP."
   ]
  },
  {
   "cell_type": "code",
   "execution_count": 92,
   "metadata": {},
   "outputs": [],
   "source": [
    "class MedidasCentralizadas():\n",
    "    def media(self, numeros: list):\n",
    "        return sum(numeros) / len(numeros)\n",
    "\n",
    "    def mediana(self, numeros: list):\n",
    "        numeros.sort()\n",
    "        if len(numeros) % 2 == 0:\n",
    "            return (numeros[len(numeros) // 2 - 1] + numeros[len(numeros) // 2]) / 2\n",
    "        else:\n",
    "            return numeros[len(numeros) // 2]\n",
    "\n",
    "    def moda(self, numeros):\n",
    "        frecuencia = {}\n",
    "        for num in numeros:\n",
    "            if num in frecuencia:\n",
    "                frecuencia[num] += 1\n",
    "            else:\n",
    "                frecuencia[num] = 1\n",
    "        max_frecuencia = max(frecuencia.values())\n",
    "        return [num for num, freq in frecuencia.items() if freq == max_frecuencia]\n",
    "\n",
    "class MedidasVariacion():\n",
    "    def varianza(self, numeros):\n",
    "        medidas_centralizadas = MedidasCentralizadas()\n",
    "        media = medidas_centralizadas.media(numeros)\n",
    "        return sum((x - media) ** 2 for x in numeros) / len(numeros)\n",
    "\n",
    "    def desviacion_estandar(self, numeros):\n",
    "        return self.varianza(numeros) ** 0.5\n",
    "\n",
    "    def rango(self, datos):\n",
    "        return max(datos) - min(datos)"
   ]
  },
  {
   "cell_type": "code",
   "execution_count": 93,
   "metadata": {},
   "outputs": [
    {
     "name": "stdout",
     "output_type": "stream",
     "text": [
      "Media: 3.4444444444444446\n",
      "Mediana: 4\n",
      "Moda: [4]\n",
      "Varianza: 2.246913580246914\n",
      "Desviación Estándar: 1.4989708403591158\n",
      "Rango: 5\n"
     ]
    }
   ],
   "source": [
    "if __name__ == \"__main__\":\n",
    "    datos = [1, 2, 2, 3, 4, 4, 4, 5, 6]\n",
    "\n",
    "    medidas_centralizadas = MedidasCentralizadas()\n",
    "    print(\"Media:\", medidas_centralizadas.media(datos))\n",
    "    print(\"Mediana:\", medidas_centralizadas.mediana(datos))\n",
    "    print(\"Moda:\", medidas_centralizadas.moda(datos))\n",
    "\n",
    "    medidas_variacion = MedidasVariacion()\n",
    "    print(\"Varianza:\", medidas_variacion.varianza(datos))\n",
    "    print(\"Desviación Estándar:\", medidas_variacion.desviacion_estandar(datos))\n",
    "    print(\"Rango:\", medidas_variacion.rango(datos))"
   ]
  },
  {
   "cell_type": "markdown",
   "metadata": {},
   "source": [
    "## **Pregunta 4. DRY y KISS.**\n",
    "Los principios DRY (Don't Repeat Yourself) y KISS (Keep It Simple, Stupid) son fundamentales para escribir código de alta calidad. Proporcione un ejemplo de un fragmento de código Python que viole estos principios. Describa cómo lo refactorizaría para adherirse a los principios DRY y KISS."
   ]
  },
  {
   "cell_type": "markdown",
   "metadata": {},
   "source": [
    "El antipatrón **Spahetti Code** se da cuándo un trozo de código no está documentado y dónde cualquier pequeño cambio o modificación hace tambalear la estructura completa del sistema. Se da cuándo se tiene una estructura de control de flujo completa e incomprensible.\n",
    "\n",
    "Comos solución a este antipatrón es la refactorización: limpieza de código. Esto puede incluir la eliminación de código redundante y la organización de las funciones de manera más coherente. Otras soluciones consisten en aplicar los principios **DRY** y **KISS**, fundamentales para la escritura de un buen código.\n",
    "- El principio **DRY** sugiere que cada pieza de conocimiento en un sistema debe tener una única representación. Es decir, evita duplicar lógica y funcionalidad.\n",
    "- El principio **KISS** aboga por mantener las cosas simples y directas, evitando la complejidad innecesaria."
   ]
  },
  {
   "cell_type": "markdown",
   "metadata": {},
   "source": [
    "### **DRY y KISS - Modificar.**\n",
    "Como ejemplo a modificar crearemos el cálculo del precio final de un articulo. En caso de que el precio base sea mayor  50, se aplicará el descuento y tras ello calcular el precio con impuesto. En caso contrario, únicamente se calculará el precio con impuesto sin descuento.\n",
    "\n",
    "Finalmente retornará únicamente 100, si el valor calculado como precio final es menor-igual que 100. Sino retorna el precio final calculado."
   ]
  },
  {
   "cell_type": "code",
   "execution_count": 94,
   "metadata": {},
   "outputs": [
    {
     "name": "stdout",
     "output_type": "stream",
     "text": [
      "108.0\n"
     ]
    }
   ],
   "source": [
    "def calcular_precio_final():\n",
    "    precio_base = 100\n",
    "    descuento = 0.1\n",
    "    impuesto = 0.2\n",
    "\n",
    "    if precio_base > 50:\n",
    "        precio_base = precio_base - (precio_base * descuento)\n",
    "        precio_final = precio_base + (precio_base * impuesto)\n",
    "    else:\n",
    "        precio_final = precio_base + (precio_base * impuesto)\n",
    "\n",
    "    if precio_final > 100:\n",
    "        return precio_final\n",
    "    else:\n",
    "        return 100\n",
    "\n",
    "print(calcular_precio_final())"
   ]
  },
  {
   "cell_type": "markdown",
   "metadata": {},
   "source": [
    "Sin una explicación previa, este código resulta difícil de comprender y puede llevar tiempo descifrar su funcionamiento.\n",
    "\n",
    "- **Complejidad:** La lógica para aplicar descuentos e impuestos se encuentra entrelazada en un único bloque de código, lo que lo hace poco claro y complicado de seguir.\n",
    "\n",
    "- **Repetición:** Si en el futuro se necesita calcular el precio de otros productos, sería necesario duplicar la misma lógica. Esto puede dar lugar a errores y complicar el mantenimiento del código.\n"
   ]
  },
  {
   "cell_type": "markdown",
   "metadata": {},
   "source": [
    "### **DRY y KISS - Modificado.**\n",
    "A continuación, se añade una versión refactorizada, más clara y sigue los principios **KISS** y **DRY**."
   ]
  },
  {
   "cell_type": "code",
   "execution_count": 95,
   "metadata": {},
   "outputs": [],
   "source": [
    "def aplicar_descuento(precio, descuento):\n",
    "    return precio - (precio*descuento)\n",
    "\n",
    "def aplicar_impuesto(precio, tasa_impuesto):\n",
    "    return precio + (precio * tasa_impuesto)\n",
    "\n",
    "def calcular_precio_final(precio_base, descuento, tasa_impuesto):\n",
    "    if precio_base > 50:\n",
    "        precio_base = aplicar_descuento(precio_base, descuento)\n",
    "\n",
    "    precio_final = aplicar_impuesto(precio_base, tasa_impuesto)\n",
    "\n",
    "    return max(precio_final, 100)"
   ]
  },
  {
   "cell_type": "code",
   "execution_count": 96,
   "metadata": {},
   "outputs": [
    {
     "name": "stdout",
     "output_type": "stream",
     "text": [
      "108.0\n"
     ]
    }
   ],
   "source": [
    "if __name__ == '__main__':\n",
    "    precio_base = 100\n",
    "    descuento = 0.1\n",
    "    tasa_impuesto = 0.2\n",
    "    print(calcular_precio_final(precio_base, descuento, tasa_impuesto))"
   ]
  },
  {
   "cell_type": "markdown",
   "metadata": {},
   "source": [
    "## **Pregunta 5. OBSERVER.**\n",
    "El patrón de diseño \"Observer\" permite que un objeto notifique a otros objetos sobre los cambios en su estado. Describa una situación en el contexto de la ingeniería matemática donde este patrón sería útil. Implemente un ejemplo simple de este patrón en Python para ilustrar su respuesta."
   ]
  },
  {
   "cell_type": "markdown",
   "metadata": {},
   "source": []
  },
  {
   "cell_type": "markdown",
   "metadata": {},
   "source": [
    "## **Pregunta Práctica 1. Refactorización de código con Principios SOLID.**\n",
    "Se le proporciona un fragmento de código Python que maneja diferentes tipos de formas geométricas. Actualmente, el código viola el Principio de Responsabilidad Única (SRP) y el Principio Abierto/Cerrado (OCP) de SOLID. Su tarea es refactorizar este código para que se adhiera a estos:"
   ]
  },
  {
   "cell_type": "markdown",
   "metadata": {},
   "source": [
    "### **SOLID - Modificar.**"
   ]
  },
  {
   "cell_type": "code",
   "execution_count": 102,
   "metadata": {},
   "outputs": [
    {
     "name": "stdout",
     "output_type": "stream",
     "text": [
      "4.14159\n"
     ]
    }
   ],
   "source": [
    "class Shape:\n",
    "    def __init__(self, type):\n",
    "        self.type = type\n",
    "\n",
    "class AreaCalculator:\n",
    "    def __init__(self, shapes):\n",
    "        self.shapes = shapes\n",
    "\n",
    "    def total_area(self):\n",
    "        total = 0\n",
    "        for shape in self.shapes:\n",
    "            if shape.type == \"circle\":\n",
    "                radius = 1.0  # Supongamos que el radio es siempre 1 para este ejemplo\n",
    "                total += 3.14159 * radius * radius\n",
    "            elif shape.type == \"square\":\n",
    "                side = 1.0  # Supongamos que el lado es siempre 1 para este ejemplo\n",
    "                total += side * side\n",
    "        return total\n",
    "\n",
    "shapes = [Shape(\"circle\"), Shape(\"square\")]\n",
    "calculator = AreaCalculator(shapes)\n",
    "print(calculator.total_area())"
   ]
  },
  {
   "cell_type": "markdown",
   "metadata": {},
   "source": [
    "Observamos que viola los siguiente principios **SOLID**.\n",
    "- **Principio de Responsabilidad Única.** La clase `AreaCalculator` es responsable tanto de mantener una lista de formas como de calcular el área de estas. Esto significa que si se quiere cambiar la forma de calcular el área (por ejemplo, añadir nuevas formas o cambiar cómo se calculan las áreas), habría que modificar la clase `AreaCalculator`, incumpliendo así el principio SOLID.\n",
    "\n",
    "- **Open/Closed.** En el código, si se quisiera agregar nuevas formas, se tendría que modificar la clase `AreaCalculator` para incluir la lógica de cálculo del área de esas nuevas formas. Esto va en contra del principio OCP, ya que se requiere modificar el código existente en lugar de extenderlo."
   ]
  },
  {
   "cell_type": "markdown",
   "metadata": {},
   "source": [
    "### **SOLID - Modificado.**"
   ]
  },
  {
   "cell_type": "code",
   "execution_count": 97,
   "metadata": {},
   "outputs": [],
   "source": [
    "class Shape(ABC):\n",
    "    @abstractmethod\n",
    "    def area(self):\n",
    "        pass\n",
    "\n",
    "class Circle(Shape):\n",
    "    def __init__(self, radius):\n",
    "        self.radius = radius\n",
    "    \n",
    "    def area(self):\n",
    "        return 3.14159 * self.radius * self.radius\n",
    "\n",
    "class Square(Shape):\n",
    "    def __init__(self, side):\n",
    "        self.side = side\n",
    "    \n",
    "    def area(self):\n",
    "        return self.side * self.side"
   ]
  },
  {
   "cell_type": "code",
   "execution_count": 99,
   "metadata": {},
   "outputs": [],
   "source": [
    "class AreaCalculator():\n",
    "    def __init__(self, shapes):\n",
    "        self.shapes = shapes\n",
    "\n",
    "    def total_area(self):\n",
    "        total = 0\n",
    "        for shape in self.shapes:\n",
    "            total += shape.area()\n",
    "        return total"
   ]
  },
  {
   "cell_type": "code",
   "execution_count": 101,
   "metadata": {},
   "outputs": [
    {
     "name": "stdout",
     "output_type": "stream",
     "text": [
      "4.14159\n"
     ]
    }
   ],
   "source": [
    "if __name__ == '__main__':\n",
    "    shapes = [Circle(1.0), Square(1.0)]\n",
    "    calculator = AreaCalculator(shapes)\n",
    "    print(calculator.total_area())\n"
   ]
  }
 ],
 "metadata": {
  "kernelspec": {
   "display_name": "base",
   "language": "python",
   "name": "python3"
  },
  "language_info": {
   "codemirror_mode": {
    "name": "ipython",
    "version": 3
   },
   "file_extension": ".py",
   "mimetype": "text/x-python",
   "name": "python",
   "nbconvert_exporter": "python",
   "pygments_lexer": "ipython3",
   "version": "3.9.13"
  }
 },
 "nbformat": 4,
 "nbformat_minor": 2
}
