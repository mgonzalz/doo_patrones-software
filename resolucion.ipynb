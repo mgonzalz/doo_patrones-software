{
 "cells": [
  {
   "cell_type": "markdown",
   "metadata": {},
   "source": [
    "# Principios y Patrones del Desarrollo de Software."
   ]
  },
  {
   "cell_type": "markdown",
   "metadata": {},
   "source": [
    "### **Pregunta 1. SOLID.**\n",
    "\n",
    "Explique en detalle el principio SOLID \"Open/Closed\" y proporcione un ejemplo de código en Python donde este principio se ha violado y cómo puede corregirlo."
   ]
  },
  {
   "cell_type": "markdown",
   "metadata": {},
   "source": [
    "Primero de todo, SOLID se trata de un acrónimo que hace referencia a los cinco principios básicos de diseño con el fin de hacer que los diseños de software sean más comprensibles.\n",
    "\n",
    "\"Open/Closed\" se trata del segundo principio SOLID. Se refiere a que los módulos de software deben de ser **abiertos para su extensión, pero cerrados para su modificación**. Eso se refiere a que primero el comportamiento del software pueda extenderse. Es decir, si se cambian los requisitos, que se pueda ampliar el módulo para adaptarlo a estos. A su vez, con que el módulo este cerrado nos referimos a que si extendemos el comportamiento, los demás módulos no deben de verse afectamos por el cambio ni modificarse."
   ]
  },
  {
   "cell_type": "markdown",
   "metadata": {},
   "source": [
    "#### **Open/Closed - Modificar.**\n",
    "Supongamos que tenemos una clase compra que tiene una lista de productos y sus precios. Si queremos añadir tipos de **descuentos** tendríamos que modificar la clase todo el rato.\n",
    "\n",
    "Esto viola el principio de Open/Closed porque estamos cambiando una clase ya existente para añadir una nueva funcionalidad."
   ]
  },
  {
   "cell_type": "code",
   "execution_count": 21,
   "metadata": {},
   "outputs": [],
   "source": [
    "class Compra():\n",
    "    def __init__(self):\n",
    "        self.productos = []\n",
    "    def add_product(self, producto, precio):\n",
    "        self.productos.append([producto, precio])\n",
    "    def total(self):\n",
    "        total = 0\n",
    "        for producto in self.productos:\n",
    "            total += producto[1]\n",
    "        return total\n",
    "    def descuento(self, tipo_descuento):\n",
    "        if tipo_descuento == \"navidad\":\n",
    "            return self.total() * 0.80\n",
    "        if tipo_descuento == \"fin de mes\":\n",
    "            return self.total() * 0.90\n",
    "        if tipo_descuento == \"Black Friday\":\n",
    "            return self.total() * 0.50\n",
    "        # y así con otros descuentos..."
   ]
  },
  {
   "cell_type": "markdown",
   "metadata": {},
   "source": [
    "#### **Open/Closed - Modificado.**\n",
    "Para cumplir con el principio Open/Closed se debe de aplicar el **polimorfismo**. El polimorfismo hace que diferentes objetos pueden responder de manera distinta al mismo mensaje o método. Con esto permitiríamos la agregación de distintos tipos de descuento sin necesidad de modificar la clase ya creada: `Compra`.\n",
    "\n",
    "En lugar de modificar la clase, se creará una clase base Descuento, siendo esta abstracta ya que no implementa completamente los métodos que declara, sino que delega la implementación específica a las subclases; y luego extenderla con diferentes tipos de descuentos sin modificar la clase original."
   ]
  },
  {
   "cell_type": "code",
   "execution_count": 22,
   "metadata": {},
   "outputs": [],
   "source": [
    "from abc import ABC, abstractmethod"
   ]
  },
  {
   "cell_type": "code",
   "execution_count": 23,
   "metadata": {},
   "outputs": [],
   "source": [
    "class Descuento(ABC):\n",
    "    @abstractmethod\n",
    "    def apply(self, compra):\n",
    "        pass\n",
    "\n",
    "class NavidadDescuento(Descuento):\n",
    "    def apply(self, compra):\n",
    "        return compra.total() * 0.80\n",
    "\n",
    "class FinDeMesDescuento(Descuento):\n",
    "    def apply(self, compra):\n",
    "        return compra.total() * 0.90\n",
    "\n",
    "class BlackFridayDescuento(Descuento):\n",
    "    def apply(self, compra):\n",
    "        return compra.total() * 0.50"
   ]
  },
  {
   "cell_type": "code",
   "execution_count": 24,
   "metadata": {},
   "outputs": [],
   "source": [
    "class Compra():\n",
    "    def __init__(self):\n",
    "        self.productos = []\n",
    "    def add_product(self, producto, precio):\n",
    "        self.productos.append([producto, precio])\n",
    "    def total(self):\n",
    "        total = 0\n",
    "        for producto in self.productos:\n",
    "            total += producto[1]\n",
    "        return total\n",
    "    def descuento(self, tipo_descuento: Descuento):\n",
    "        return tipo_descuento.apply(self)\n",
    "\n",
    "    def __str__(self):\n",
    "        return f\"Compra: {self.productos}, Total: {self.total()}\""
   ]
  },
  {
   "cell_type": "code",
   "execution_count": 25,
   "metadata": {},
   "outputs": [
    {
     "name": "stdout",
     "output_type": "stream",
     "text": [
      "Compra: [['Camisa', 50], ['Pantalón', 50]], Total: 100\n",
      "50.0\n",
      "80.0\n",
      "90.0\n"
     ]
    }
   ],
   "source": [
    "compra = Compra()\n",
    "compra.add_product(\"Camisa\", 50)\n",
    "compra.add_product(\"Pantalón\", 50)\n",
    "print(compra)\n",
    "print(compra.descuento(BlackFridayDescuento()))\n",
    "print(compra.descuento(NavidadDescuento()))\n",
    "print(compra.descuento(FinDeMesDescuento()))"
   ]
  },
  {
   "cell_type": "markdown",
   "metadata": {},
   "source": [
    "## **Pregunta 2. FACTORY.**\n",
    "Describa el patrón de diseño \"Factory\". ¿En qué situaciones sería útil este patrón? Proporcione un ejemplo de cómo implementaría este patrón en Python para un problema relacionado con la ingeniería matemática, como la creación de diferentes tipos de funciones matemáticas."
   ]
  },
  {
   "cell_type": "markdown",
   "metadata": {},
   "source": []
  }
 ],
 "metadata": {
  "kernelspec": {
   "display_name": "base",
   "language": "python",
   "name": "python3"
  },
  "language_info": {
   "codemirror_mode": {
    "name": "ipython",
    "version": 3
   },
   "file_extension": ".py",
   "mimetype": "text/x-python",
   "name": "python",
   "nbconvert_exporter": "python",
   "pygments_lexer": "ipython3",
   "version": "3.9.13"
  }
 },
 "nbformat": 4,
 "nbformat_minor": 2
}
