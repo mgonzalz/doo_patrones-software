{
 "cells": [
  {
   "cell_type": "markdown",
   "metadata": {},
   "source": [
    "# Principios y Patrones del Desarrollo de Software."
   ]
  },
  {
   "cell_type": "markdown",
   "metadata": {},
   "source": [
    "### **Pregunta 1. SOLID.**\n",
    "\n",
    "Explique en detalle el principio SOLID \"Open/Closed\" y proporcione un ejemplo de código en Python donde este principio se ha violado y cómo puede corregirlo."
   ]
  },
  {
   "cell_type": "markdown",
   "metadata": {},
   "source": [
    "Primero de todo, SOLID se trata de un acrónimo que hace referencia a los cinco principios básicos de diseño con el fin de hacer que los diseños de software sean más comprensibles.\n",
    "\n",
    "\"Open/Closed\" se trata del segundo principio SOLID. Se refiere a que los módulos de software deben de ser **abiertos para su extensión, pero cerrados para su modificación**. Eso se refiere a que primero el comportamiento del software pueda extenderse. Es decir, si se cambian los requisitos, que se pueda ampliar el módulo para adaptarlo a estos. A su vez, con que el módulo este cerrado nos referimos a que si extendemos el comportamiento, los demás módulos no deben de verse afectamos por el cambio ni modificarse."
   ]
  },
  {
   "cell_type": "markdown",
   "metadata": {},
   "source": [
    "#### **Open/Closed - Modificar.**\n",
    "Supongamos que tenemos una clase compra que tiene una lista de productos y sus precios. Si queremos añadir tipos de **descuentos** tendríamos que modificar la clase todo el rato.\n",
    "\n",
    "Esto viola el principio de Open/Closed porque estamos cambiando una clase ya existente para añadir una nueva funcionalidad."
   ]
  },
  {
   "cell_type": "code",
   "execution_count": 30,
   "metadata": {},
   "outputs": [],
   "source": [
    "class Compra():\n",
    "    def __init__(self):\n",
    "        self.productos = []\n",
    "    def add_product(self, producto, precio):\n",
    "        self.productos.append([producto, precio])\n",
    "    def total(self):\n",
    "        total = 0\n",
    "        for producto in self.productos:\n",
    "            total += producto[1]\n",
    "        return total\n",
    "    def descuento(self, tipo_descuento):\n",
    "        if tipo_descuento == \"navidad\":\n",
    "            return self.total() * 0.80\n",
    "        if tipo_descuento == \"fin de mes\":\n",
    "            return self.total() * 0.90\n",
    "        if tipo_descuento == \"Black Friday\":\n",
    "            return self.total() * 0.50\n",
    "        # y así con otros descuentos..."
   ]
  },
  {
   "cell_type": "markdown",
   "metadata": {},
   "source": [
    "#### **Open/Closed - Modificado.**\n",
    "Para cumplir con el principio Open/Closed se debe de aplicar el **polimorfismo**. El polimorfismo hace que diferentes objetos pueden responder de manera distinta al mismo mensaje o método. Con esto permitiríamos la agregación de distintos tipos de descuento sin necesidad de modificar la clase ya creada: `Compra`.\n",
    "\n",
    "En lugar de modificar la clase, se creará una clase base Descuento, siendo esta abstracta ya que no implementa completamente los métodos que declara, sino que delega la implementación específica a las subclases; y luego extenderla con diferentes tipos de descuentos sin modificar la clase original."
   ]
  },
  {
   "cell_type": "code",
   "execution_count": 31,
   "metadata": {},
   "outputs": [],
   "source": [
    "from abc import ABC, abstractmethod"
   ]
  },
  {
   "cell_type": "code",
   "execution_count": 32,
   "metadata": {},
   "outputs": [],
   "source": [
    "class Descuento(ABC):\n",
    "    @abstractmethod\n",
    "    def apply(self, compra):\n",
    "        pass\n",
    "\n",
    "class NavidadDescuento(Descuento):\n",
    "    def apply(self, compra):\n",
    "        return compra * 0.80\n",
    "\n",
    "class FinDeMesDescuento(Descuento):\n",
    "    def apply(self, compra):\n",
    "        return compra * 0.90\n",
    "\n",
    "class BlackFridayDescuento(Descuento):\n",
    "    def apply(self, compra):\n",
    "        return compra * 0.50"
   ]
  },
  {
   "cell_type": "code",
   "execution_count": 33,
   "metadata": {},
   "outputs": [],
   "source": [
    "class Compra():\n",
    "    def __init__(self):\n",
    "        self.productos = []\n",
    "    def add_product(self, producto, precio):\n",
    "        self.productos.append([producto, precio])\n",
    "    def total(self):\n",
    "        total = 0\n",
    "        for producto in self.productos:\n",
    "            total += producto[1]\n",
    "        return total\n",
    "    def descuento(self, tipo_descuento: Descuento):\n",
    "        return tipo_descuento.apply(self.total())\n",
    "\n",
    "    def __str__(self):\n",
    "        return f\"Compra: {self.productos}, Total: {self.total()}\""
   ]
  },
  {
   "cell_type": "code",
   "execution_count": 34,
   "metadata": {},
   "outputs": [
    {
     "name": "stdout",
     "output_type": "stream",
     "text": [
      "Compra: [['Camisa', 50], ['Pantalón', 50]], Total: 100\n",
      "BlackFridayDescuento :  50.0\n",
      "NavidadDescuento :  80.0\n",
      "FinDeMesDescuento :  90.0\n"
     ]
    }
   ],
   "source": [
    "if __name__ == \"__main__\":\n",
    "    compra = Compra()\n",
    "    descuentos = [BlackFridayDescuento(), NavidadDescuento(), FinDeMesDescuento()]\n",
    "    compra.add_product(\"Camisa\", 50)\n",
    "    compra.add_product(\"Pantalón\", 50)\n",
    "    print(compra)\n",
    "    for i in descuentos:\n",
    "        print(i.__class__.__name__, ': ',compra.descuento(i))"
   ]
  },
  {
   "cell_type": "code",
   "execution_count": 35,
   "metadata": {},
   "outputs": [
    {
     "name": "stdout",
     "output_type": "stream",
     "text": [
      "Compra: [['Camisa', 50], ['Pantalón', 50], ['Zapas', 100]], Total: 200\n",
      "BlackFridayDescuento :  100.0\n",
      "NavidadDescuento :  160.0\n",
      "FinDeMesDescuento :  180.0\n"
     ]
    }
   ],
   "source": [
    "if __name__ == \"__main__\":\n",
    "    compra.add_product(\"Zapas\", 100)\n",
    "    print(compra)\n",
    "    for i in descuentos:\n",
    "        print(i.__class__.__name__, ': ',compra.descuento(i))"
   ]
  },
  {
   "cell_type": "markdown",
   "metadata": {},
   "source": [
    "## **Pregunta 2. FACTORY.**\n",
    "Describa el patrón de diseño \"Factory\". ¿En qué situaciones sería útil este patrón? Proporcione un ejemplo de cómo implementaría este patrón en Python para un problema relacionado con la ingeniería matemática, como la creación de diferentes tipos de funciones matemáticas."
   ]
  },
  {
   "cell_type": "markdown",
   "metadata": {},
   "source": [
    "**Factory** se trata de un patrón creacional. Los patrones creacionales ofrecen formas de generar instancias de clases, mejorando la adaptabilidad y la reutilización del código.\n",
    "\n",
    "**Factory** se trata de un patrón que provee una clase abstracta, `Creator`, que permite encapsular la lógica de creación de los objetos en subclases y estas deciden que clase instanciar. Estos objetos se crean a patir de un método (NO CONSTRUCTORES). Sigue la siguiente estructura:\n",
    "- Product: Definición de las interfaces para la familia de productos genéricos.\n",
    "- ConcreteProduct: Implementación de los diferentes productos.\n",
    "- Creator: Declara el método encargado de instanciar nuevos objetos. Suele ser una clase abstracta. Clase `Factory`.\n",
    "- ConcreteCreator: Crea la instancia del producto concreto.\n",
    "\n",
    "**Utilidades del Patrón Factory.**\n",
    "\n",
    "El patrón Factory resulta especialmente útil cuando **no se conoce de antemano el tipo exacto de objeto a crear** y es necesario generarlo en tiempo de ejecución. Permite incorporar nuevas subclases de `Product` sin modificar el código cliente, lo que incrementa la **adaptabilidad** del sistema. Además, es ideal en escenarios donde es importante **centralizar la lógica de creación de objetos en un único punto**. Finalmente, el patrón es adecuado cuando el tipo de objeto a crear puede variar en función de determinados parámetros o condiciones, manteniendo el código limpio y flexible.\n"
   ]
  },
  {
   "cell_type": "code",
   "execution_count": 36,
   "metadata": {},
   "outputs": [],
   "source": [
    "# CLASE Product: Función genérica que declara las operaciones que todas las funciones matemáticas tienen en común.\n",
    "class MathFuncion(ABC):\n",
    "    @abstractmethod\n",
    "    def calcular(self, x):\n",
    "        pass"
   ]
  },
  {
   "cell_type": "code",
   "execution_count": 37,
   "metadata": {},
   "outputs": [],
   "source": [
    "# CLASE ConcreteProduct: Diferentes productos.\n",
    "class FuncionLineal(MathFuncion):\n",
    "    def __init__(self, a, b):\n",
    "        self.a = a\n",
    "        self.b = b\n",
    "    def calcular(self, x):\n",
    "        return self.a * x + self.b\n",
    "    def operacion(self):\n",
    "        return f'f(x) = {self.a}x + {self.b}'\n",
    "\n",
    "class FuncionCuadratica(MathFuncion):\n",
    "    def __init__(self, a, b, c):\n",
    "        self.a = a\n",
    "        self.b = b\n",
    "        self.c = c\n",
    "    def calcular(self, x):\n",
    "        return self.a * x**2 + self.b * x + self.c\n",
    "    def operacion(self):\n",
    "        return f'f(x) = {self.a}x^2 + {self.b}x + {self.c}'"
   ]
  },
  {
   "cell_type": "code",
   "execution_count": 38,
   "metadata": {},
   "outputs": [],
   "source": [
    "# CLASE Creator: Clase abstracta que declara el método de fabrica que devolverá una función.\n",
    "class FuncionCreator(ABC):\n",
    "    @abstractmethod\n",
    "    def factory_method(self, tipo_funcion, *args) -> MathFuncion:\n",
    "        pass\n",
    "    def calcular(self, x, tipo_funcion, *args): # número, tipo función, coeficientes.\n",
    "        funcion = self.factory_method(tipo_funcion, *args)\n",
    "        return f\"FunctionCreator: Calculando usando {funcion.calcular(x)} en {funcion.operacion()}\""
   ]
  },
  {
   "cell_type": "code",
   "execution_count": 39,
   "metadata": {},
   "outputs": [],
   "source": [
    "# CLASE ConcreteCreator: Implementa el método de fábrica que devuelve un objeto de la clase concreta.\n",
    "class ConcreteFuncionCreator(FuncionCreator):\n",
    "    def factory_method(self, tipo_funcion, *args) -> MathFuncion:\n",
    "        if tipo_funcion == \"lineal\":\n",
    "            a = args[0]\n",
    "            b = args[1]\n",
    "            return FuncionLineal(a, b)\n",
    "        if tipo_funcion == \"cuadratica\":\n",
    "            a = args[0]\n",
    "            b = args[1]\n",
    "            c = args[2]\n",
    "            return FuncionCuadratica(a, b, c)\n",
    "        else:\n",
    "            return 'Tipo de función desconocida'\n"
   ]
  },
  {
   "cell_type": "code",
   "execution_count": 40,
   "metadata": {},
   "outputs": [],
   "source": [
    "# Código del cliente: Instancia de un creator concreto sin conocer su clase específica.\n",
    "def client_code(creator: FuncionCreator, x, function_type, *args):\n",
    "    print(creator.calcular(x, function_type, *args))"
   ]
  },
  {
   "cell_type": "code",
   "execution_count": 41,
   "metadata": {},
   "outputs": [
    {
     "name": "stdout",
     "output_type": "stream",
     "text": [
      "App: Lanzado con funciones lineales.\n",
      "FunctionCreator: Calculando usando 13 en f(x) = 2x + 3\n",
      "\n",
      "App: Lanzado con funciones cuadráticas.\n",
      "FunctionCreator: Calculando usando 16 en f(x) = 1x^2 + -2x + 1\n"
     ]
    }
   ],
   "source": [
    "if __name__ == \"__main__\":\n",
    "    creator = ConcreteFuncionCreator()\n",
    "    \n",
    "    # Ejemplo usando el creador para diferentes tipos de funciones\n",
    "    print(\"App: Lanzado con funciones lineales.\")\n",
    "    client_code(creator, 5, \"lineal\", 2, 3)  # f(x) = 2*x + 3\n",
    "    \n",
    "    print(\"\\nApp: Lanzado con funciones cuadráticas.\")\n",
    "    client_code(creator, 5, \"cuadratica\", 1, -2, 1)  # f(x) = 1*x^2 - 2*x + 1"
   ]
  },
  {
   "cell_type": "markdown",
   "metadata": {},
   "source": [
    "## **Pregunta 3. God Object.**"
   ]
  }
 ],
 "metadata": {
  "kernelspec": {
   "display_name": "base",
   "language": "python",
   "name": "python3"
  },
  "language_info": {
   "codemirror_mode": {
    "name": "ipython",
    "version": 3
   },
   "file_extension": ".py",
   "mimetype": "text/x-python",
   "name": "python",
   "nbconvert_exporter": "python",
   "pygments_lexer": "ipython3",
   "version": "3.9.13"
  }
 },
 "nbformat": 4,
 "nbformat_minor": 2
}
